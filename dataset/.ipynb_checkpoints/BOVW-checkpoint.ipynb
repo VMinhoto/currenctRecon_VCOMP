{
 "cells": [
  {
   "cell_type": "code",
   "execution_count": 11,
   "metadata": {},
   "outputs": [],
   "source": [
    "#https://towardsdatascience.com/bag-of-visual-words-in-a-nutshell-9ceea97ce0fb\n",
    "#https://github.com/kushalvyas/Bag-of-Visual-Words-Python/blob/master/Bag.py\n",
    "\n",
    "import cv2\n",
    "import matplotlib.pyplot as plt\n",
    "\n",
    "# defining feature extractor that we want to use\n",
    "extractor = cv2.xfeatures2d.SIFT_create()\n",
    "\n",
    "def features(image, extractor):\n",
    "    keypoints, descriptors = extractor.detectAndCompute(image, None)\n",
    "    return keypoints, descriptors"
   ]
  },
  {
   "cell_type": "code",
   "execution_count": 12,
   "metadata": {},
   "outputs": [],
   "source": [
    "#Read Image\n",
    "image = cv2.imread(\"10_test1_preprocessed.png\")\n",
    "\n",
    "kptsn, dscr = features(image, extractor=extractor)"
   ]
  },
  {
   "cell_type": "code",
   "execution_count": 21,
   "metadata": {},
   "outputs": [
    {
     "data": {
      "text/plain": [
       "KMeans(algorithm='auto', copy_x=True, init='k-means++', max_iter=300,\n",
       "    n_clusters=800, n_init=10, n_jobs=None, precompute_distances='auto',\n",
       "    random_state=None, tol=0.0001, verbose=0)"
      ]
     },
     "execution_count": 21,
     "metadata": {},
     "output_type": "execute_result"
    }
   ],
   "source": [
    "#Make clusters and get the bags of visual words\n",
    "from sklearn.cluster import KMeans\n",
    "import numpy as np\n",
    "\n",
    "descriptor_list = dscr\n",
    "\n",
    "kmeans = KMeans(n_clusters = 800)\n",
    "kmeans.fit(descriptor_list)\n",
    "\n",
    "preprocessed_image = []\n",
    "#for image in images:\n",
    "      #image = gray(image)\n",
    "      #keypoint, descriptor = features(image, extractor)\n",
    "      #if (descriptor is not None):\n",
    "          #histogram = build_histogram(descriptor, kmeans)\n",
    "          #preprocessed_image.append(histogram)\n",
    "#histogram = np.histogram(descriptor_list, kmeans)\n",
    "#preprocessed_image.append(histogram)\n",
    "kmeans"
   ]
  },
  {
   "cell_type": "code",
   "execution_count": 18,
   "metadata": {},
   "outputs": [
    {
     "name": "stdout",
     "output_type": "stream",
     "text": [
      "Collecting scikit-learn\n",
      "  Downloading https://files.pythonhosted.org/packages/8f/1c/9c1d550068f015685d0fccb1726ace7163bbfe5b1a16bda1dcd28d99cb65/scikit_learn-0.20.0-cp36-cp36m-win_amd64.whl (4.7MB)\n",
      "Requirement not upgraded as not directly required: scipy>=0.13.3 in c:\\users\\tiago\\appdata\\local\\conda\\conda\\envs\\vcomp\\lib\\site-packages (from scikit-learn) (1.1.0)\n",
      "Requirement not upgraded as not directly required: numpy>=1.8.2 in c:\\users\\tiago\\appdata\\local\\conda\\conda\\envs\\vcomp\\lib\\site-packages (from scikit-learn) (1.15.3)\n",
      "Installing collected packages: scikit-learn\n",
      "Successfully installed scikit-learn-0.20.0\n"
     ]
    },
    {
     "name": "stderr",
     "output_type": "stream",
     "text": [
      "You are using pip version 10.0.1, however version 18.1 is available.\n",
      "You should consider upgrading via the 'python -m pip install --upgrade pip' command.\n"
     ]
    }
   ],
   "source": [
    "from sklearn.neighbors import NearestNeighbors\n",
    "\n",
    "data = cv2.imread(image_path)\n",
    "data = gray(data)\n",
    "keypoint, descriptor = features(data, extractor)\n",
    "histogram = build_histogram(descriptor, kmeans)\n",
    "neighbor = NearestNeighbors(n_neighbors = 20)\n",
    "neighbor.fit(preprocess_image)\n",
    "dist, result = neighbor.kneighbors([histogram])"
   ]
  },
  {
   "cell_type": "code",
   "execution_count": null,
   "metadata": {},
   "outputs": [],
   "source": []
  }
 ],
 "metadata": {
  "kernelspec": {
   "display_name": "Python 3",
   "language": "python",
   "name": "python3"
  },
  "language_info": {
   "codemirror_mode": {
    "name": "ipython",
    "version": 3
   },
   "file_extension": ".py",
   "mimetype": "text/x-python",
   "name": "python",
   "nbconvert_exporter": "python",
   "pygments_lexer": "ipython3",
   "version": "3.6.7"
  }
 },
 "nbformat": 4,
 "nbformat_minor": 2
}
