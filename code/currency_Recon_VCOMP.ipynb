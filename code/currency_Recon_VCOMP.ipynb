{
 "cells": [
  {
   "cell_type": "code",
   "execution_count": null,
   "metadata": {},
   "outputs": [],
   "source": [
    "#currency_Recon_VCOMP Pipeline\n",
    "#Libray Imports\n",
    "import os\n",
    "import numpy as np\n",
    "import cv2\n",
    "from glob import glob\n",
    "from sklearn.cluster import KMeans\n",
    "from sklearn.svm import SVC\n",
    "from sklearn.preprocessing import StandardScaler\n",
    "from matplotlib import pyplot as plt\n",
    "\n",
    "#Read Images\n",
    "#Read and prepare file lists\n",
    "#Read files\n",
    "imlist = {}\n",
    "count = 0\n",
    "for each in glob(path + \"*\"):\n",
    "    word = each.split(\"/\")[-1]\n",
    "    print \" #### Reading image category \", word, \" ##### \"\n",
    "    imlist[word] = []\n",
    "    for imagefile in glob(path+word+\"/*\"):\n",
    "        print \"Reading file \", imagefile\n",
    "        im = cv2.imread(imagefile, 0)\n",
    "        imlist[word].append(im)\n",
    "        count +=1 \n",
    "\n",
    "\n",
    "self.images, self.trainImageCount = self.file_helper.getFiles(self.train_path)\n",
    "\n",
    "# extract SIFT Features from each image\n",
    "label_count = 0 \n",
    "for word, imlist in self.images.iteritems():\n",
    "    self.name_dict[str(label_count)] = word\n",
    "    print \"Computing Features for \", word\n",
    "    for im in imlist:\n",
    "        # cv2.imshow(\"im\", im)\n",
    "        # cv2.waitKey()\n",
    "        self.train_labels = np.append(self.train_labels, label_count)\n",
    "        kp, des = self.im_helper.features(im)\n",
    "        self.descriptor_list.append(des)\n",
    "        label_count += 1"
   ]
  }
 ],
 "metadata": {
  "kernelspec": {
   "display_name": "Python 3",
   "language": "python",
   "name": "python3"
  },
  "language_info": {
   "codemirror_mode": {
    "name": "ipython",
    "version": 3
   },
   "file_extension": ".py",
   "mimetype": "text/x-python",
   "name": "python",
   "nbconvert_exporter": "python",
   "pygments_lexer": "ipython3",
   "version": "3.6.7"
  }
 },
 "nbformat": 4,
 "nbformat_minor": 2
}
