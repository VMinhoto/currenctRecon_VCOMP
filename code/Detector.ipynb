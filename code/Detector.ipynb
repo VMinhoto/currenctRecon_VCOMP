{
 "cells": [
  {
   "cell_type": "code",
   "execution_count": 8,
   "metadata": {},
   "outputs": [],
   "source": [
    "import os\n",
    "import numpy as np\n",
    "import cv2\n",
    "import matplotlib.pyplot as plt"
   ]
  },
  {
   "cell_type": "code",
   "execution_count": 2,
   "metadata": {},
   "outputs": [],
   "source": [
    "img = cv2.imread('preprocessed.png',0)\n"
   ]
  },
  {
   "cell_type": "code",
   "execution_count": 6,
   "metadata": {},
   "outputs": [
    {
     "data": {
      "text/plain": [
       "array([[[249, 249, 249],\n",
       "        [249, 249, 249],\n",
       "        [249, 249, 249],\n",
       "        ...,\n",
       "        [249, 249, 249],\n",
       "        [251, 251, 251],\n",
       "        [251, 251, 251]],\n",
       "\n",
       "       [[249, 249, 249],\n",
       "        [249, 249, 249],\n",
       "        [249, 249, 249],\n",
       "        ...,\n",
       "        [249, 249, 249],\n",
       "        [251, 251, 251],\n",
       "        [251, 251, 251]],\n",
       "\n",
       "       [[249, 249, 249],\n",
       "        [249, 249, 249],\n",
       "        [249, 249, 249],\n",
       "        ...,\n",
       "        [249, 249, 249],\n",
       "        [249, 249, 249],\n",
       "        [249, 249, 249]],\n",
       "\n",
       "       ...,\n",
       "\n",
       "       [[248, 248, 248],\n",
       "        [248, 248, 248],\n",
       "        [247, 247, 247],\n",
       "        ...,\n",
       "        [244, 244, 244],\n",
       "        [247, 247, 247],\n",
       "        [232, 232, 232]],\n",
       "\n",
       "       [[248, 248, 248],\n",
       "        [248, 248, 248],\n",
       "        [248, 248, 248],\n",
       "        ...,\n",
       "        [244, 244, 244],\n",
       "        [244, 244, 244],\n",
       "        [232, 232, 232]],\n",
       "\n",
       "       [[247, 247, 247],\n",
       "        [247, 247, 247],\n",
       "        [247, 247, 247],\n",
       "        ...,\n",
       "        [244, 244, 244],\n",
       "        [244, 244, 244],\n",
       "        [230, 230, 230]]], dtype=uint8)"
      ]
     },
     "execution_count": 6,
     "metadata": {},
     "output_type": "execute_result"
    }
   ],
   "source": [
    "sift = cv2.xfeatures2d.SIFT_create()\n",
    "kp = sift.detect(img,None) \n",
    "img2=img\n",
    "cv2.drawKeypoints(img,kp,img2)"
   ]
  },
  {
   "cell_type": "code",
   "execution_count": 11,
   "metadata": {},
   "outputs": [
    {
     "data": {
      "text/plain": [
       "True"
      ]
     },
     "execution_count": 11,
     "metadata": {},
     "output_type": "execute_result"
    }
   ],
   "source": [
    "cv2.imwrite('sift_keypoints.jpg',img)"
   ]
  },
  {
   "cell_type": "code",
   "execution_count": null,
   "metadata": {},
   "outputs": [],
   "source": []
  }
 ],
 "metadata": {
  "kernelspec": {
   "display_name": "Python 3",
   "language": "python",
   "name": "python3"
  },
  "language_info": {
   "codemirror_mode": {
    "name": "ipython",
    "version": 3
   },
   "file_extension": ".py",
   "mimetype": "text/x-python",
   "name": "python",
   "nbconvert_exporter": "python",
   "pygments_lexer": "ipython3",
   "version": "3.7.1"
  }
 },
 "nbformat": 4,
 "nbformat_minor": 2
}
